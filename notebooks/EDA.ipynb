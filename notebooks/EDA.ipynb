{
 "cells": [
  {
   "cell_type": "code",
   "execution_count": 4,
   "id": "f03aa19a",
   "metadata": {},
   "outputs": [],
   "source": [
    "import pandas as pd\n",
    "import numpy as np\n",
    "\n",
    "from sklearn.model_selection import train_test_split\n",
    "from sklearn.metrics import classification_report\n",
    "\n",
    "from sklearn.preprocessing import StandardScaler\n",
    "from sklearn.ensemble import RandomForestClassifier, GradientBoostingClassifier\n",
    "from sklearn.linear_model import LogisticRegression\n",
    "\n",
    "from sklearn.pipeline import Pipeline"
   ]
  },
  {
   "cell_type": "code",
   "execution_count": 5,
   "id": "5485082c",
   "metadata": {},
   "outputs": [],
   "source": [
    "df = pd.read_csv(\"../data/raw/heart_cleveland_upload.csv\")\n",
    "\n",
    "# df.drop([\"condition\"], axis=1).to_csv(\"../data/raw/predict_dataset.csv\")\n",
    "# test_df = pd.read_csv(\"../data/raw/predict_dataset.csv\")"
   ]
  },
  {
   "cell_type": "code",
   "execution_count": 6,
   "id": "9fc1e002",
   "metadata": {},
   "outputs": [],
   "source": [
    "y = df.loc[:, \"condition\"]\n",
    "X = df.drop([\"condition\"], axis=1)\n",
    "seed = 0\n",
    "test_size = 0.2\n",
    "\n",
    "X_train, X_test, y_train, y_test = train_test_split(X, y, test_size=test_size, random_state=seed)"
   ]
  },
  {
   "cell_type": "code",
   "execution_count": 7,
   "id": "9eb2742b",
   "metadata": {},
   "outputs": [
    {
     "data": {
      "text/plain": [
       "pandas.core.frame.DataFrame"
      ]
     },
     "execution_count": 7,
     "metadata": {},
     "output_type": "execute_result"
    }
   ],
   "source": [
    "type(X_train)"
   ]
  },
  {
   "cell_type": "code",
   "execution_count": 8,
   "id": "efebc409",
   "metadata": {},
   "outputs": [
    {
     "name": "stdout",
     "output_type": "stream",
     "text": [
      "              precision    recall  f1-score   support\n",
      "\n",
      "           0       0.61      0.86      0.72        22\n",
      "           1       0.90      0.68      0.78        38\n",
      "\n",
      "    accuracy                           0.75        60\n",
      "   macro avg       0.75      0.77      0.75        60\n",
      "weighted avg       0.79      0.75      0.75        60\n",
      "\n"
     ]
    }
   ],
   "source": [
    "pipe = Pipeline([\n",
    "    (\"scaler\", StandardScaler()),\n",
    "    (\"grad_boosting\", GradientBoostingClassifier(\n",
    "        # n_estimators=1000,\n",
    "        # max_depth=50,\n",
    "        # max_iter=100\n",
    "    ))\n",
    "])\n",
    "\n",
    "\n",
    "pipe.fit(X_train, y_train)\n",
    "y_predict = pipe.predict(X_test)\n",
    "print(classification_report(y_test, y_predict))"
   ]
  },
  {
   "cell_type": "code",
   "execution_count": 15,
   "id": "ccf3c1c4",
   "metadata": {},
   "outputs": [
    {
     "name": "stdout",
     "output_type": "stream",
     "text": [
      "              precision    recall  f1-score   support\n",
      "\n",
      "           0       0.59      0.91      0.71        22\n",
      "           1       0.92      0.63      0.75        38\n",
      "\n",
      "    accuracy                           0.73        60\n",
      "   macro avg       0.76      0.77      0.73        60\n",
      "weighted avg       0.80      0.73      0.74        60\n",
      "\n"
     ]
    }
   ],
   "source": [
    "pipe = Pipeline([\n",
    "    (\"random_forest\", RandomForestClassifier(\n",
    "        # n_estimators=1000,\n",
    "        # max_depth=50,\n",
    "        # max_iter=100\n",
    "    ))\n",
    "])\n",
    "\n",
    "\n",
    "pipe.fit(X_train, y_train)\n",
    "y_predict = pipe.predict(X_test)\n",
    "print(classification_report(y_test, y_predict))"
   ]
  },
  {
   "cell_type": "code",
   "execution_count": 13,
   "id": "d9e494b2",
   "metadata": {},
   "outputs": [
    {
     "name": "stdout",
     "output_type": "stream",
     "text": [
      "              precision    recall  f1-score   support\n",
      "\n",
      "           0       0.71      0.91      0.80        22\n",
      "           1       0.94      0.79      0.86        38\n",
      "\n",
      "    accuracy                           0.83        60\n",
      "   macro avg       0.83      0.85      0.83        60\n",
      "weighted avg       0.86      0.83      0.84        60\n",
      "\n"
     ]
    }
   ],
   "source": [
    "pipe = Pipeline([\n",
    "    (\"scaler\", StandardScaler()),\n",
    "    (\"grad_boosting\", LogisticRegression(\n",
    "        # n_estimators=1000,\n",
    "        # max_depth=50,\n",
    "        # max_iter=100\n",
    "    ))\n",
    "])\n",
    "\n",
    "\n",
    "pipe.fit(X_train, y_train)\n",
    "y_predict = pipe.predict(X_test)\n",
    "print(classification_report(y_test, y_predict))"
   ]
  },
  {
   "cell_type": "code",
   "execution_count": null,
   "id": "0b75372f",
   "metadata": {},
   "outputs": [],
   "source": []
  }
 ],
 "metadata": {
  "kernelspec": {
   "display_name": "Python 3.8.10 ('.venv': venv)",
   "language": "python",
   "name": "python3"
  },
  "language_info": {
   "codemirror_mode": {
    "name": "ipython",
    "version": 3
   },
   "file_extension": ".py",
   "mimetype": "text/x-python",
   "name": "python",
   "nbconvert_exporter": "python",
   "pygments_lexer": "ipython3",
   "version": "3.8.10"
  },
  "vscode": {
   "interpreter": {
    "hash": "7cec024b7e60e2ef0c1c3309d07fa58f25d81be2c41e262de9197a2eddb6b566"
   }
  }
 },
 "nbformat": 4,
 "nbformat_minor": 5
}
